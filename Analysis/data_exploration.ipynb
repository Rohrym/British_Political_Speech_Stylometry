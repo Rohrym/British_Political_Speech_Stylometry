{
  "cells": [
    {
      "cell_type": "markdown",
      "id": "d9c07b49",
      "metadata": {
        "id": "d9c07b49"
      },
      "source": [
        "# Speech Data Exploration"
      ]
    },
    {
      "cell_type": "code",
      "execution_count": null,
      "id": "3a1c6656",
      "metadata": {
        "id": "3a1c6656"
      },
      "outputs": [],
      "source": [
        "import pandas as pd\n",
        "import seaborn as sns\n",
        "from matplotlib import pyplot as plt"
      ]
    },
    {
      "cell_type": "markdown",
      "id": "dfdb381d-8ae1-4156-95b8-00bd0ad6f7df",
      "metadata": {
        "id": "dfdb381d-8ae1-4156-95b8-00bd0ad6f7df"
      },
      "source": [
        "## Initial exploration of the dataset\n",
        "Here we can get a first idea of what the dataset looks like and what values are represented.\n",
        "As can be seen the dataset consists of 354 speeches each being accompanied by the following columns:\n",
        "- *ID*\n",
        "- *Speaker*\n",
        "- *Party*\n",
        "- *Location*\n",
        "- *Date*\n",
        "- *Name of the speech*\n",
        "- *Speech*\n",
        "\n",
        "There are no NULL values in our dataset.  \n",
        "The `.sample()` function gives a peak into the values of our dataset.  "
      ]
    },
    {
      "cell_type": "code",
      "execution_count": null,
      "id": "857ce036",
      "metadata": {
        "id": "857ce036",
        "outputId": "f7eb8bcc-e99e-4a02-be83-c8ca803947c2"
      },
      "outputs": [
        {
          "name": "stdout",
          "output_type": "stream",
          "text": [
            "<class 'pandas.core.frame.DataFrame'>\n",
            "RangeIndex: 354 entries, 0 to 353\n",
            "Data columns (total 7 columns):\n",
            " #   Column       Non-Null Count  Dtype \n",
            "---  ------       --------------  ----- \n",
            " 0   id           354 non-null    object\n",
            " 1   speaker      354 non-null    object\n",
            " 2   party        354 non-null    object\n",
            " 3   location     354 non-null    object\n",
            " 4   date         354 non-null    object\n",
            " 5   name speech  354 non-null    object\n",
            " 6   speech       354 non-null    object\n",
            "dtypes: object(7)\n",
            "memory usage: 19.5+ KB\n"
          ]
        },
        {
          "data": {
            "text/html": [
              "<div>\n",
              "<style scoped>\n",
              "    .dataframe tbody tr th:only-of-type {\n",
              "        vertical-align: middle;\n",
              "    }\n",
              "\n",
              "    .dataframe tbody tr th {\n",
              "        vertical-align: top;\n",
              "    }\n",
              "\n",
              "    .dataframe thead th {\n",
              "        text-align: right;\n",
              "    }\n",
              "</style>\n",
              "<table border=\"1\" class=\"dataframe\">\n",
              "  <thead>\n",
              "    <tr style=\"text-align: right;\">\n",
              "      <th></th>\n",
              "      <th>id</th>\n",
              "      <th>speaker</th>\n",
              "      <th>party</th>\n",
              "      <th>location</th>\n",
              "      <th>date</th>\n",
              "      <th>name speech</th>\n",
              "      <th>speech</th>\n",
              "    </tr>\n",
              "  </thead>\n",
              "  <tbody>\n",
              "    <tr>\n",
              "      <th>count</th>\n",
              "      <td>354</td>\n",
              "      <td>354</td>\n",
              "      <td>354</td>\n",
              "      <td>354</td>\n",
              "      <td>354</td>\n",
              "      <td>354</td>\n",
              "      <td>354</td>\n",
              "    </tr>\n",
              "    <tr>\n",
              "      <th>unique</th>\n",
              "      <td>354</td>\n",
              "      <td>54</td>\n",
              "      <td>5</td>\n",
              "      <td>62</td>\n",
              "      <td>347</td>\n",
              "      <td>341</td>\n",
              "      <td>354</td>\n",
              "    </tr>\n",
              "    <tr>\n",
              "      <th>top</th>\n",
              "      <td>Conservative_0</td>\n",
              "      <td>Paddy Ashdown</td>\n",
              "      <td>Labour</td>\n",
              "      <td>London</td>\n",
              "      <td>1998</td>\n",
              "      <td>Leader's speech, Brighton 1971</td>\n",
              "      <td>Thank you very much for that warm welcome. You...</td>\n",
              "    </tr>\n",
              "    <tr>\n",
              "      <th>freq</th>\n",
              "      <td>1</td>\n",
              "      <td>45</td>\n",
              "      <td>123</td>\n",
              "      <td>58</td>\n",
              "      <td>3</td>\n",
              "      <td>2</td>\n",
              "      <td>1</td>\n",
              "    </tr>\n",
              "  </tbody>\n",
              "</table>\n",
              "</div>"
            ],
            "text/plain": [
              "                    id         speaker   party location  date  \\\n",
              "count              354             354     354      354   354   \n",
              "unique             354              54       5       62   347   \n",
              "top     Conservative_0  Paddy Ashdown   Labour   London  1998   \n",
              "freq                 1              45     123       58     3   \n",
              "\n",
              "                           name speech  \\\n",
              "count                              354   \n",
              "unique                             341   \n",
              "top     Leader's speech, Brighton 1971   \n",
              "freq                                 2   \n",
              "\n",
              "                                                   speech  \n",
              "count                                                 354  \n",
              "unique                                                354  \n",
              "top     Thank you very much for that warm welcome. You...  \n",
              "freq                                                    1  "
            ]
          },
          "execution_count": 24,
          "metadata": {},
          "output_type": "execute_result"
        }
      ],
      "source": [
        "df = pd.read_csv('Code/speech_metadata.csv')\n",
        "df.info()\n",
        "df.describe()"
      ]
    },
    {
      "cell_type": "code",
      "execution_count": null,
      "id": "01725648",
      "metadata": {
        "id": "01725648",
        "outputId": "1df30554-0ff2-404c-b691-db26029751b3"
      },
      "outputs": [
        {
          "data": {
            "text/html": [
              "<div>\n",
              "<style scoped>\n",
              "    .dataframe tbody tr th:only-of-type {\n",
              "        vertical-align: middle;\n",
              "    }\n",
              "\n",
              "    .dataframe tbody tr th {\n",
              "        vertical-align: top;\n",
              "    }\n",
              "\n",
              "    .dataframe thead th {\n",
              "        text-align: right;\n",
              "    }\n",
              "</style>\n",
              "<table border=\"1\" class=\"dataframe\">\n",
              "  <thead>\n",
              "    <tr style=\"text-align: right;\">\n",
              "      <th></th>\n",
              "      <th>id</th>\n",
              "      <th>speaker</th>\n",
              "      <th>party</th>\n",
              "      <th>location</th>\n",
              "      <th>date</th>\n",
              "      <th>name speech</th>\n",
              "      <th>speech</th>\n",
              "    </tr>\n",
              "  </thead>\n",
              "  <tbody>\n",
              "    <tr>\n",
              "      <th>178</th>\n",
              "      <td>Labour_178</td>\n",
              "      <td>Tony Blair</td>\n",
              "      <td>Labour</td>\n",
              "      <td>Blackpool</td>\n",
              "      <td>01/10/1996</td>\n",
              "      <td>Leader's speech, Blackpool 1996</td>\n",
              "      <td>Diana, friends, colleagues, this year we meet ...</td>\n",
              "    </tr>\n",
              "    <tr>\n",
              "      <th>13</th>\n",
              "      <td>Conservative_13</td>\n",
              "      <td>David Cameron</td>\n",
              "      <td>Conservative</td>\n",
              "      <td>Birmingham</td>\n",
              "      <td>01/10/2014</td>\n",
              "      <td>Leader's speech, Birmingham 2014</td>\n",
              "      <td>I am so proud to stand here today as Prime Min...</td>\n",
              "    </tr>\n",
              "    <tr>\n",
              "      <th>304</th>\n",
              "      <td>Conservative_312</td>\n",
              "      <td>Stanley Baldwin</td>\n",
              "      <td>Conservative</td>\n",
              "      <td>Blackpool</td>\n",
              "      <td>07/10/1932</td>\n",
              "      <td>Leader's speech, Blackpool 1932</td>\n",
              "      <td>Mr. Baldwin thanked Blackpool for the great we...</td>\n",
              "    </tr>\n",
              "    <tr>\n",
              "      <th>37</th>\n",
              "      <td>Conservative_37</td>\n",
              "      <td>David Cameron</td>\n",
              "      <td>Conservative</td>\n",
              "      <td>Shipley</td>\n",
              "      <td>28/05/2010</td>\n",
              "      <td>\"Transforming the British economy: Coalition s...</td>\n",
              "      <td>This is my first major speech as Prime Ministe...</td>\n",
              "    </tr>\n",
              "    <tr>\n",
              "      <th>132</th>\n",
              "      <td>Labour_132</td>\n",
              "      <td>Tony Blair</td>\n",
              "      <td>Labour</td>\n",
              "      <td>Bournemouth</td>\n",
              "      <td>28/09/1999</td>\n",
              "      <td>Leader's speech, Bournemouth 1999</td>\n",
              "      <td>Today at the frontier of the new Millennium I ...</td>\n",
              "    </tr>\n",
              "  </tbody>\n",
              "</table>\n",
              "</div>"
            ],
            "text/plain": [
              "                   id           speaker         party     location  \\\n",
              "178        Labour_178       Tony Blair         Labour    Blackpool   \n",
              "13    Conservative_13    David Cameron   Conservative   Birmingham   \n",
              "304  Conservative_312  Stanley Baldwin   Conservative    Blackpool   \n",
              "37    Conservative_37    David Cameron   Conservative      Shipley   \n",
              "132        Labour_132       Tony Blair         Labour  Bournemouth   \n",
              "\n",
              "           date                                        name speech  \\\n",
              "178  01/10/1996                    Leader's speech, Blackpool 1996   \n",
              "13   01/10/2014                   Leader's speech, Birmingham 2014   \n",
              "304  07/10/1932                    Leader's speech, Blackpool 1932   \n",
              "37   28/05/2010  \"Transforming the British economy: Coalition s...   \n",
              "132  28/09/1999                  Leader's speech, Bournemouth 1999   \n",
              "\n",
              "                                                speech  \n",
              "178  Diana, friends, colleagues, this year we meet ...  \n",
              "13   I am so proud to stand here today as Prime Min...  \n",
              "304  Mr. Baldwin thanked Blackpool for the great we...  \n",
              "37   This is my first major speech as Prime Ministe...  \n",
              "132  Today at the frontier of the new Millennium I ...  "
            ]
          },
          "execution_count": 25,
          "metadata": {},
          "output_type": "execute_result"
        }
      ],
      "source": [
        "df.sample(5)"
      ]
    },
    {
      "cell_type": "markdown",
      "id": "9a95ae4f",
      "metadata": {
        "id": "9a95ae4f"
      },
      "source": [
        "## Some exploratory queries & visualizations\n",
        "\n",
        "### Speech counts"
      ]
    },
    {
      "cell_type": "markdown",
      "id": "3fdee381-4dc5-428c-bc89-45e3eba4dc2a",
      "metadata": {
        "id": "3fdee381-4dc5-428c-bc89-45e3eba4dc2a"
      },
      "source": [
        "Below we see some visualizations related to the amount of speeches in the dataset.\n",
        "\n",
        "We can see from the *first horizontal barplot* that the **Labour party** and **Conservative party** have the most speeches in the dataset (around 120 each), followed by the **Liberal Democrats** and the **Liberal party** with around 65 and 45 speeches respectively. The **SPD-Liberal Alliance** has only a few speeches in the dataset.\n",
        ">***NOTE:*** The **Liberal** party merged with the **SPD-Liberal Alliance** to form the **Liberal Democrats** in 1988.\n",
        "\n",
        "The *second horizontal* barplot looks at the 10 speakers that gave the most amount of speeches.  \n",
        "Most of the speakers that have over 20 speeches appeared *after 1988*, which brings us to the final lineplot.  \n",
        "\n",
        "In the *final lineplot* we can see that most speeches appeared around the *90s up until the 2010s* with a high peak around the *1995-2000* period.\n"
      ]
    },
    {
      "cell_type": "code",
      "execution_count": null,
      "id": "1a367112",
      "metadata": {
        "id": "1a367112",
        "outputId": "bfe7e93c-e0c0-4793-9d5a-16eca3eaba89"
      },
      "outputs": [
        {
          "data": {
            "image/png": "[encoded data removed]",
            "text/plain": [
              "<Figure size 432x288 with 1 Axes>"
            ]
          },
          "metadata": {
            "needs_background": "light"
          },
          "output_type": "display_data"
        }
      ],
      "source": [
        "#count speeches per party\n",
        "df.value_counts(['party']).sort_values(ascending=True).plot(kind='barh');"
      ]
    },
    {
      "cell_type": "code",
      "execution_count": null,
      "id": "89b05444",
      "metadata": {
        "id": "89b05444",
        "outputId": "dc3ad781-368a-4eda-aa39-8bbc70236999"
      },
      "outputs": [
        {
          "data": {
            "image/png": "[encoded data removed]",
            "text/plain": [
              "<Figure size 432x288 with 1 Axes>"
            ]
          },
          "metadata": {
            "needs_background": "light"
          },
          "output_type": "display_data"
        }
      ],
      "source": [
        "#count speeches per speaker\n",
        "df.value_counts(['speaker'])[:10].sort_values(ascending=True).plot(kind='barh');"
      ]
    },
    {
      "cell_type": "code",
      "execution_count": null,
      "id": "202764b3",
      "metadata": {
        "id": "202764b3",
        "outputId": "ac945ed5-2a77-41ff-dafc-5c6e0afafb63"
      },
      "outputs": [
        {
          "data": {
            "image/png": "[encoded data removed]",
            "text/plain": [
              "<Figure size 432x288 with 1 Axes>"
            ]
          },
          "metadata": {
            "needs_background": "light"
          },
          "output_type": "display_data"
        }
      ],
      "source": [
        "#speeches per year\n",
        "years = []\n",
        "for date in df['date']:\n",
        "    years.append(date[-4:])\n",
        "df['year'] = years\n",
        "df['year'].astype('int')\n",
        "df['year'].value_counts().sort_index(ascending=True).plot.line();"
      ]
    },
    {
      "cell_type": "markdown",
      "id": "e6208454",
      "metadata": {
        "id": "e6208454"
      },
      "source": [
        "### Location\n",
        "\n",
        "This visualization looks at the cities which have been visited the by the parties.  \n",
        "A significant number of speeches for both the *Labour* and the *Conservative party* have been given in **Blackpool**.  \n",
        "This could be explained by the [Winter Gardens](https://www.wintergardensblackpool.co.uk/) which used to routinely host these political conferences.  \n",
        "Additionally, seaside towns like **Brighton**, **Bournemouth** and **Blackpool**, have been the hosts of UK-wide political conferences partly because of the cheap accomodation outside the holiday season.  \n",
        "More recently however, these events have been moved to more major cities which have purpose-built conference centres.  \n",
        ">*[Source](https://en.wikipedia.org/wiki/Party_conference_season)*\n",
        "\n",
        "Therefore we can see that more major cities like **London** and **Birmingham** also have a fair share of speeches attributed to them.\n",
        "\n",
        "Another interesting observation is that **Birmingham** has no *Labour* speeches whereas the [Birmingham council has a majority of Labour councillers](https://www.birmingham.gov.uk/info/50068/how_the_council_works/882/political_composition_of_the_council)."
      ]
    },
    {
      "cell_type": "code",
      "execution_count": null,
      "id": "cc3dab15",
      "metadata": {
        "id": "cc3dab15",
        "outputId": "0dc50ef6-5b02-49b2-d19d-29aa1c38c1fb"
      },
      "outputs": [
        {
          "data": {
            "image/png": "[encoded data removed]",
            "text/plain": [
              "<Figure size 720x1080 with 1 Axes>"
            ]
          },
          "metadata": {
            "needs_background": "light"
          },
          "output_type": "display_data"
        }
      ],
      "source": [
        "#location speeches per party\n",
        "parties = df['party'].unique()\n",
        "party_location_dic = {}\n",
        "for party in parties:\n",
        "    partyloc = df.loc[df['party'] == party]\n",
        "    partyloc = partyloc['location'].value_counts()[:10]\n",
        "    party_location_dic[party] = dict(partyloc)\n",
        "\n",
        "dft = pd.DataFrame([(i,j,party_location_dic[i][j])\\\n",
        "                    for i in party_location_dic.keys()\\\n",
        "                    for j in party_location_dic[i].keys()], columns=[\"party\", \"city\", \"times visited\"])\n",
        "fig = plt.figure(figsize=(10,15))\n",
        "ax = sns.barplot(x=\"times visited\", y=\"city\", hue=\"party\" ,data=dft)\n",
        "plt.legend(loc='lower right')\n",
        "plt.show()"
      ]
    },
    {
      "cell_type": "markdown",
      "id": "0e378032",
      "metadata": {
        "id": "0e378032"
      },
      "source": [
        "### Sentence length\n",
        "The visualizations below will give an overview of the length of the speeches per party.  \n",
        "\n",
        "Firstly we can observe ***the mean of the length of every speech per party.***  \n",
        "Interestingly, the **Labour** and **Conservative** party have a similar average speech length.  \n",
        "Additionally, the **SPD-Liberal Alliance** seems to have a relatively short speech length, however, this could be explained by the low number of speeches in the dataset.  \n",
        "The **Liberal** party has the highest average speech length with **Liberal Democrats** having, comparatively speaking, a short average speech length.  \n",
        "\n",
        "\n",
        "Secondly, the lineplot visualizes the fluctuation of ***average speech length over the years.***  \n",
        "We can see some dips and peaks in the lineplot which is indicative of some of the outliers in the dataset.  \n",
        "It is fair to say that most speeches range from around **15000 words** to around **35000 words**, which can be observed more clearly in the final part of this exploratory analysis."
      ]
    },
    {
      "cell_type": "code",
      "execution_count": null,
      "id": "26a03ec3",
      "metadata": {
        "id": "26a03ec3",
        "outputId": "a9d1b141-8b24-4bff-ebb8-5c68a7baa5fe"
      },
      "outputs": [
        {
          "data": {
            "text/html": [
              "<div>\n",
              "<style scoped>\n",
              "    .dataframe tbody tr th:only-of-type {\n",
              "        vertical-align: middle;\n",
              "    }\n",
              "\n",
              "    .dataframe tbody tr th {\n",
              "        vertical-align: top;\n",
              "    }\n",
              "\n",
              "    .dataframe thead th {\n",
              "        text-align: right;\n",
              "    }\n",
              "</style>\n",
              "<table border=\"1\" class=\"dataframe\">\n",
              "  <thead>\n",
              "    <tr style=\"text-align: right;\">\n",
              "      <th></th>\n",
              "      <th>length_in_words</th>\n",
              "    </tr>\n",
              "    <tr>\n",
              "      <th>party</th>\n",
              "      <th></th>\n",
              "    </tr>\n",
              "  </thead>\n",
              "  <tbody>\n",
              "    <tr>\n",
              "      <th>Conservative</th>\n",
              "      <td>26133.000000</td>\n",
              "    </tr>\n",
              "    <tr>\n",
              "      <th>Labour</th>\n",
              "      <td>26521.162602</td>\n",
              "    </tr>\n",
              "    <tr>\n",
              "      <th>Liberal</th>\n",
              "      <td>30570.622222</td>\n",
              "    </tr>\n",
              "    <tr>\n",
              "      <th>Liberal Democrat</th>\n",
              "      <td>21201.492308</td>\n",
              "    </tr>\n",
              "    <tr>\n",
              "      <th>SDP-Liberal Alliance</th>\n",
              "      <td>14022.000000</td>\n",
              "    </tr>\n",
              "  </tbody>\n",
              "</table>\n",
              "</div>"
            ],
            "text/plain": [
              "                      length_in_words\n",
              "party                                \n",
              "Conservative             26133.000000\n",
              "Labour                   26521.162602\n",
              "Liberal                  30570.622222\n",
              "Liberal Democrat         21201.492308\n",
              "SDP-Liberal Alliance     14022.000000"
            ]
          },
          "execution_count": 12,
          "metadata": {},
          "output_type": "execute_result"
        }
      ],
      "source": [
        "#average length of speech per party\n",
        "df['speech'] = df['speech'].fillna('').astype('string')\n",
        "df['length_in_words'] = df['speech'].apply(len)\n",
        "df.groupby('party').mean('length_in_words')"
      ]
    },
    {
      "cell_type": "code",
      "execution_count": null,
      "id": "1d4dc07c",
      "metadata": {
        "id": "1d4dc07c",
        "outputId": "c0dfd56f-476c-425f-b989-de9415adafa8"
      },
      "outputs": [
        {
          "data": {
            "image/png": "[encoded data removed]",
            "text/plain": [
              "<Figure size 432x288 with 1 Axes>"
            ]
          },
          "metadata": {
            "needs_background": "light"
          },
          "output_type": "display_data"
        }
      ],
      "source": [
        "#average speech length per year\n",
        "df.groupby('year').mean('length_in_words').astype('int').plot.line();"
      ]
    },
    {
      "cell_type": "markdown",
      "id": "524d2005-602f-4f23-85cc-84a76d6260bb",
      "metadata": {
        "id": "524d2005-602f-4f23-85cc-84a76d6260bb"
      },
      "source": [
        "### Boxplot with the length of speeches per party"
      ]
    },
    {
      "cell_type": "markdown",
      "id": "555604a6-5e55-49c4-9934-9f82be94ae34",
      "metadata": {
        "id": "555604a6-5e55-49c4-9934-9f82be94ae34"
      },
      "source": [
        "In this boxplot we can see the differences between the length distribution per party.\n",
        "\n",
        "At first glance, we can see from this boxplot that the greatest distinction is between Liberals and the other two parties.\n",
        "\n",
        "- The ***Conservative party's*** *'shortest'* speech has around **50 words** and the *'longest'* speech has around **47000 words**.  \n",
        "The majority of the speeches from the Conservative party have between **20000 (Q1) and 35000 words (Q3).**\n",
        "\n",
        "- The ***Labour party's*** *'shortest'* speech has around **2000 words**, whereas the *'longest'* speech has over **51000 words**.  \n",
        "The majority of the speeches from the Labour party have between **15000 (Q1) and 35000 words (Q3)**.\n",
        "\n",
        "- The ***Liberal party's*** *'shortest'* speech has around **8000 words**, whereas the *'longest'* speech has around **55000 words**.<br> **NOTE:** Important to note here is that these speeches are outliers in the Liberal speeches.  \n",
        "The majority of the speeches from the Liberals have between **25000 (Q1) and 35000 words (Q3)**."
      ]
    },
    {
      "cell_type": "code",
      "execution_count": null,
      "id": "6717c1b6-65fb-48b4-b328-d7648a859830",
      "metadata": {
        "id": "6717c1b6-65fb-48b4-b328-d7648a859830",
        "outputId": "7b85cc32-cde2-43a9-a791-b6686f7e341c"
      },
      "outputs": [
        {
          "data": {
            "image/png": "[encoded data removed]",
            "text/plain": [
              "<Figure size 432x288 with 1 Axes>"
            ]
          },
          "metadata": {
            "needs_background": "light"
          },
          "output_type": "display_data"
        }
      ],
      "source": [
        "df_three = df.loc[(df['party'] == 'Conservative') | (df['party']=='Labour') | (df['party']=='Liberal')]\n",
        "sns.boxplot(x='party',y='length_in_words',data=df_three);"
      ]
    },
    {
      "cell_type": "code",
      "execution_count": null,
      "id": "8c673b62-6a9c-479c-93e4-74fe625910bc",
      "metadata": {
        "id": "8c673b62-6a9c-479c-93e4-74fe625910bc",
        "outputId": "be446ac7-c31b-4121-ee13-7241ad5ca8ac"
      },
      "outputs": [
        {
          "name": "stdout",
          "output_type": "stream",
          "text": [
            "Conservatives\n",
            "       length_in_words\n",
            "count       118.000000\n",
            "mean      26133.000000\n",
            "std       10955.536236\n",
            "min          56.000000\n",
            "25%       20025.250000\n",
            "50%       27488.000000\n",
            "75%       34431.750000\n",
            "max       47490.000000\n",
            "Labour\n",
            "       length_in_words\n",
            "count       123.000000\n",
            "mean      26521.162602\n",
            "std       12770.481760\n",
            "min        2471.000000\n",
            "25%       15515.000000\n",
            "50%       29320.000000\n",
            "75%       35934.000000\n",
            "max       51549.000000\n",
            "Liberal\n",
            "       length_in_words\n",
            "count        45.000000\n",
            "mean      30570.622222\n",
            "std        9148.845377\n",
            "min        8051.000000\n",
            "25%       25877.000000\n",
            "50%       30924.000000\n",
            "75%       35141.000000\n",
            "max       54887.000000\n"
          ]
        }
      ],
      "source": [
        "print('Conservatives')\n",
        "print(df_three.loc[df_three['party'] == 'Conservative'].describe())\n",
        "print('Labour')\n",
        "print(df_three.loc[df_three['party'] == 'Labour'].describe())\n",
        "print('Liberal')\n",
        "print(df_three.loc[df_three['party'] == 'Liberal'].describe())"
      ]
    },
    {
      "cell_type": "code",
      "execution_count": null,
      "id": "f571d01b-7755-41ca-9c33-95d81f05a2be",
      "metadata": {
        "id": "f571d01b-7755-41ca-9c33-95d81f05a2be"
      },
      "outputs": [],
      "source": [
        ""
      ]
    }
  ],
  "metadata": {
    "kernelspec": {
      "display_name": "Python 3",
      "language": "python",
      "name": "python3"
    },
    "language_info": {
      "codemirror_mode": {
        "name": "ipython",
        "version": 3
      },
      "file_extension": ".py",
      "mimetype": "text/x-python",
      "name": "python",
      "nbconvert_exporter": "python",
      "pygments_lexer": "ipython3",
      "version": "3.8.8"
    },
    "colab": {
      "name": "Data Exploration with boxplot.ipynb",
      "provenance": []
    }
  },
  "nbformat": 4,
  "nbformat_minor": 5
}
