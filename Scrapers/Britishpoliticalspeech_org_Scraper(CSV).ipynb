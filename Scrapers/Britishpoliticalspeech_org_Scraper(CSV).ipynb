{
 "cells": [
  {
   "cell_type": "markdown",
   "id": "52c56034",
   "metadata": {},
   "source": [
    "# Basic Britishpoliticalspeech.org Scraper (CSV)\n",
    "\n",
    "This python based scraper will scrape British political speeches from political leaders in the UK from [Britishpoliticalspeech.org](http://britishpoliticalspeech.org/). When fully run the scraper will output a CSV file containing basic metadata about the speeches and the speeches themselves. These could for further analysis with for instance tools from the Pandas library."
   ]
  },
  {
   "cell_type": "code",
   "execution_count": 2,
   "id": "5292d9d0-5c94-412c-b0ce-aaffaf0b1c92",
   "metadata": {
    "id": "5292d9d0-5c94-412c-b0ce-aaffaf0b1c92"
   },
   "outputs": [],
   "source": [
    "import sys\n",
    "import csv\n",
    "import requests\n",
    "import re\n",
    "from bs4 import BeautifulSoup"
   ]
  },
  {
   "cell_type": "code",
   "execution_count": 3,
   "id": "86543cd3-8e52-468b-972b-2f0feb173afc",
   "metadata": {
    "id": "86543cd3-8e52-468b-972b-2f0feb173afc"
   },
   "outputs": [],
   "source": [
    "# This function loads a webpage\n",
    "def load_page(url):\n",
    "    with requests.get(url) as f:\n",
    "        page = f.text\n",
    "    return page"
   ]
  },
  {
   "cell_type": "markdown",
   "id": "9e91d3ca-5820-4553-b49e-cb3a548b20ee",
   "metadata": {
    "id": "9e91d3ca-5820-4553-b49e-cb3a548b20ee"
   },
   "source": [
    "## Locate the Data\n",
    "\n",
    "Here we define two functions. First we extract metadata from the [main content table](http://britishpoliticalspeech.org/speech-archive.htm) of the archive using `get_speech_data()`. Second we define a function to look at specific speech pages linked in the content table using the `get_speech()` function. \n",
    "\n",
    "From the main content table we extract data on:\n",
    "- name of the speech\n",
    "- date on which the speech was held\n",
    "- party to which the speaker of the speech belonged\n",
    "- the hyperlink to the specific speech page\n",
    "\n",
    "Additionally an id is added to every speech. "
   ]
  },
  {
   "cell_type": "code",
   "execution_count": 4,
   "id": "117749c4-9370-417d-8c4b-f48d105f784d",
   "metadata": {
    "id": "117749c4-9370-417d-8c4b-f48d105f784d",
    "scrolled": false
   },
   "outputs": [],
   "source": [
    "def get_speech_data(url):\n",
    "    content_page = BeautifulSoup(load_page(url), 'lxml')       #Open the webpage\n",
    "    if not content_page:                                            \n",
    "        print('Something went wrong!', file=sys.stderr)\n",
    "        sys.exit()\n",
    "    data = []\n",
    "    for count, row in enumerate(content_page.find_all('tr')[2:]): #Find the data we are looking for\n",
    "        dates = row.find_all('td')[0]\n",
    "        parties = row.find_all('td')[1]\n",
    "        speakers = row.find_all('td')[2]\n",
    "        speech = row.find_all('td')[3]\n",
    "        link = row.find('a').get('href')\n",
    "        data.append({                               #Add the data to a dictionary\n",
    "            'id' : parties.text + '_' + str(count),\n",
    "            'date': dates.text,\n",
    "            'party': parties.text,\n",
    "            'name speech': speech.text,\n",
    "            'link': 'http://britishpoliticalspeech.org/' + link\n",
    "        })\n",
    "    return data "
   ]
  },
  {
   "cell_type": "markdown",
   "id": "7d735102",
   "metadata": {},
   "source": [
    "From the specific speech page we extract data on:\n",
    "- the full speech text \n",
    "- the name of the speaker (collected here as it was incomplete in the main content table list)\n",
    "- the location in which the speech was held (easier to scrape here)\n",
    "\n",
    "In this function we skip speeches in which the speech text is not available due to copyright. "
   ]
  },
  {
   "cell_type": "code",
   "execution_count": 5,
   "id": "9f936da2",
   "metadata": {
    "id": "9f936da2",
    "scrolled": false
   },
   "outputs": [],
   "source": [
    "def get_speech(url):\n",
    "    speech_page = BeautifulSoup(load_page(url), 'lxml')                  #Open the webpage\n",
    "    interesting_html = (speech_page.find(class_='speech-content').text.strip()\n",
    "        .replace('\\xa0\\n', '').replace('\\n','').replace('\\x85','').replace('\\u2011','')) #Find the full text of the speech\n",
    "    skip_check = 'Owing to a copyright issue this speech has been removed.' #Check of this text is in the speech, otherwise this can be skipped\n",
    "    speaker_html = speech_page.find(class_='speech-speaker').text.strip().split('(', 1)[0] #Find the speaker of the speech\n",
    "    location_html = speech_page.find(class_='speech-location').text.strip() #Find the location at which the speech was held\n",
    "    if 'Location: ' in location_html:\n",
    "        location_html = location_html.replace('Location: ', '')\n",
    "    if not interesting_html or skip_check in interesting_html: # or not speaker_html or not location_html don't really care about not finding these\n",
    "        #print('Skipped - No information available for {}'.format(url), file=sys.stderr)\n",
    "        return {}                                                      \n",
    "    return {'speech' : interesting_html, 'speaker' : speaker_html, 'location' : location_html} #Add the data to a dictionary\n"
   ]
  },
  {
   "cell_type": "markdown",
   "id": "2808d692",
   "metadata": {},
   "source": [
    "## Scraping the Data\n",
    "\n",
    "The following code will proceed to apply the previously made functions for scraping the desired data and writes the output in a csv file."
   ]
  },
  {
   "cell_type": "code",
   "execution_count": 6,
   "id": "cfb4d759",
   "metadata": {
    "id": "cfb4d759",
    "scrolled": false
   },
   "outputs": [
    {
     "name": "stdout",
     "output_type": "stream",
     "text": [
      "Done scraping!\n"
     ]
    }
   ],
   "source": [
    "#This code applies the scraping functions\n",
    "index_url = 'http://britishpoliticalspeech.org/speech-archive.htm'         # Contains the list of speeches\n",
    "speech_data = get_speech_data(index_url)                      # Get speech metadata\n",
    "for row in speech_data:\n",
    "    #print('Scraping info on {}.'.format(row['name speech'])) # Might be useful for debugging\n",
    "    url = row['link']\n",
    "    speech_info = get_speech(url)                    # Gets the speeches themselves\n",
    "    for key, value in speech_info.items():\n",
    "        row[key] = value                              # Add the new data to our dictionary\n",
    "print('Done scraping!')"
   ]
  },
  {
   "cell_type": "code",
   "execution_count": 7,
   "id": "8c73e775",
   "metadata": {
    "id": "8c73e775"
   },
   "outputs": [],
   "source": [
    "#This code writes the data in the dictionary in a csv file\n",
    "with open('metadata.csv', 'w', encoding='utf-8') as f:       # Open a csv file for writing\n",
    "    fieldnames=['id','speaker', 'party', 'location', 'date', 'name speech',\n",
    "                'speech']                                 # These are the values we want to store\n",
    "    writer = csv.DictWriter(f,\n",
    "                            delimiter=',',                # Common delimiter\n",
    "                            quotechar='\"',                # Common quote character\n",
    "                            quoting=csv.QUOTE_NONNUMERIC, # Make sure that all strings are quoted\n",
    "                            fieldnames=fieldnames\n",
    "                            )\n",
    "    writer.writeheader()                                  # Create headers in our csv file\n",
    "    for row in speech_data:\n",
    "        writer.writerow({k:v for k,v in row.items() if k in fieldnames})"
   ]
  },
  {
   "cell_type": "markdown",
   "id": "f03bbbc7",
   "metadata": {},
   "source": [
    "## Reading the Metadata\n",
    "\n",
    "In this last part you can run the following code to make a tabular overview (with pandas) of the data stored in the metadata csv file and check if the metadata has been properly scraped. "
   ]
  },
  {
   "cell_type": "code",
   "execution_count": 8,
   "id": "a8629a18",
   "metadata": {},
   "outputs": [
    {
     "data": {
      "text/html": [
       "<div>\n",
       "<style scoped>\n",
       "    .dataframe tbody tr th:only-of-type {\n",
       "        vertical-align: middle;\n",
       "    }\n",
       "\n",
       "    .dataframe tbody tr th {\n",
       "        vertical-align: top;\n",
       "    }\n",
       "\n",
       "    .dataframe thead th {\n",
       "        text-align: right;\n",
       "    }\n",
       "</style>\n",
       "<table border=\"1\" class=\"dataframe\">\n",
       "  <thead>\n",
       "    <tr style=\"text-align: right;\">\n",
       "      <th></th>\n",
       "      <th>id</th>\n",
       "      <th>speaker</th>\n",
       "      <th>party</th>\n",
       "      <th>location</th>\n",
       "      <th>date</th>\n",
       "      <th>name speech</th>\n",
       "      <th>speech</th>\n",
       "    </tr>\n",
       "  </thead>\n",
       "  <tbody>\n",
       "    <tr>\n",
       "      <th>0</th>\n",
       "      <td>Conservative_0</td>\n",
       "      <td>Theresa May</td>\n",
       "      <td>Conservative</td>\n",
       "      <td>Birmingham</td>\n",
       "      <td>03/10/2018</td>\n",
       "      <td>Leader's speech, Birmingham 2018</td>\n",
       "      <td>Thank you very much for that warm welcome. You...</td>\n",
       "    </tr>\n",
       "    <tr>\n",
       "      <th>1</th>\n",
       "      <td>Labour_1</td>\n",
       "      <td>Jeremy Corbyn</td>\n",
       "      <td>Labour</td>\n",
       "      <td>Liverpool</td>\n",
       "      <td>26/09/2018</td>\n",
       "      <td>Leader's speech, Liverpool 2018</td>\n",
       "      <td>Thank you for that welcome. I want to start by...</td>\n",
       "    </tr>\n",
       "    <tr>\n",
       "      <th>2</th>\n",
       "      <td>Liberal Democrat_2</td>\n",
       "      <td>Vince Cable</td>\n",
       "      <td>Liberal Democrat</td>\n",
       "      <td>Brighton</td>\n",
       "      <td>18/09/2018</td>\n",
       "      <td>Leader's speech, Brighton 2018</td>\n",
       "      <td>Conference, we meet at an absolutely crucial m...</td>\n",
       "    </tr>\n",
       "    <tr>\n",
       "      <th>3</th>\n",
       "      <td>Conservative_3</td>\n",
       "      <td>Theresa May</td>\n",
       "      <td>Conservative</td>\n",
       "      <td>Manchester</td>\n",
       "      <td>04/10/2017</td>\n",
       "      <td>Leader's speech, Manchester 2017</td>\n",
       "      <td>A little over forty years ago in a small villa...</td>\n",
       "    </tr>\n",
       "    <tr>\n",
       "      <th>4</th>\n",
       "      <td>Labour_4</td>\n",
       "      <td>Jeremy Corbyn</td>\n",
       "      <td>Labour</td>\n",
       "      <td>Brighton</td>\n",
       "      <td>27/09/2017</td>\n",
       "      <td>Leader's speech, Brighton 2017</td>\n",
       "      <td>We meet here this week as a united Party, adva...</td>\n",
       "    </tr>\n",
       "    <tr>\n",
       "      <th>...</th>\n",
       "      <td>...</td>\n",
       "      <td>...</td>\n",
       "      <td>...</td>\n",
       "      <td>...</td>\n",
       "      <td>...</td>\n",
       "      <td>...</td>\n",
       "      <td>...</td>\n",
       "    </tr>\n",
       "    <tr>\n",
       "      <th>357</th>\n",
       "      <td>Liberal_357</td>\n",
       "      <td>Sir Henry Campbell-Bannerman</td>\n",
       "      <td>Liberal</td>\n",
       "      <td>Hull</td>\n",
       "      <td>08/03/1899</td>\n",
       "      <td>Leader's speech, Hull 1899</td>\n",
       "      <td>Sir James Reckitt, ladies and gentlemen, I am ...</td>\n",
       "    </tr>\n",
       "    <tr>\n",
       "      <th>358</th>\n",
       "      <td>Conservative_358</td>\n",
       "      <td>Lord Salisbury</td>\n",
       "      <td>Conservative</td>\n",
       "      <td>London</td>\n",
       "      <td>16/11/1897</td>\n",
       "      <td>Leader's speech, London 1897</td>\n",
       "      <td>My Lord Derby, my lords, ladies and gentlemen,...</td>\n",
       "    </tr>\n",
       "    <tr>\n",
       "      <th>359</th>\n",
       "      <td>Liberal_359</td>\n",
       "      <td>Sir William Harcourt</td>\n",
       "      <td>Liberal</td>\n",
       "      <td>Norwich</td>\n",
       "      <td>17/03/1897</td>\n",
       "      <td>Leader's speech, Norwich 1897</td>\n",
       "      <td>My Lords and Gentlemen, - I will say ‘My lords...</td>\n",
       "    </tr>\n",
       "    <tr>\n",
       "      <th>360</th>\n",
       "      <td>Liberal_360</td>\n",
       "      <td>Earl of Rosebery</td>\n",
       "      <td>Liberal</td>\n",
       "      <td>Huddersfield</td>\n",
       "      <td>27/03/1896</td>\n",
       "      <td>Leader's speech, Huddersfield 1896</td>\n",
       "      <td>Mr. Walker, ladies and gentlemen.  It is very ...</td>\n",
       "    </tr>\n",
       "    <tr>\n",
       "      <th>361</th>\n",
       "      <td>Liberal_361</td>\n",
       "      <td>Earl of Rosebery</td>\n",
       "      <td>Liberal</td>\n",
       "      <td>Cardiff</td>\n",
       "      <td>18/01/1895</td>\n",
       "      <td>Leader's speech, Cardiff 1895</td>\n",
       "      <td>Mr. Bird, ladies and gentlemen, - I am deeply ...</td>\n",
       "    </tr>\n",
       "  </tbody>\n",
       "</table>\n",
       "<p>362 rows × 7 columns</p>\n",
       "</div>"
      ],
      "text/plain": [
       "                     id                        speaker             party  \\\n",
       "0        Conservative_0                   Theresa May       Conservative   \n",
       "1              Labour_1                 Jeremy Corbyn             Labour   \n",
       "2    Liberal Democrat_2                   Vince Cable   Liberal Democrat   \n",
       "3        Conservative_3                   Theresa May       Conservative   \n",
       "4              Labour_4                 Jeremy Corbyn             Labour   \n",
       "..                  ...                            ...               ...   \n",
       "357         Liberal_357  Sir Henry Campbell-Bannerman            Liberal   \n",
       "358    Conservative_358                Lord Salisbury       Conservative   \n",
       "359         Liberal_359          Sir William Harcourt            Liberal   \n",
       "360         Liberal_360              Earl of Rosebery            Liberal   \n",
       "361         Liberal_361              Earl of Rosebery            Liberal   \n",
       "\n",
       "         location        date                         name speech  \\\n",
       "0      Birmingham  03/10/2018    Leader's speech, Birmingham 2018   \n",
       "1       Liverpool  26/09/2018     Leader's speech, Liverpool 2018   \n",
       "2        Brighton  18/09/2018     Leader's speech, Brighton 2018    \n",
       "3      Manchester  04/10/2017    Leader's speech, Manchester 2017   \n",
       "4        Brighton  27/09/2017      Leader's speech, Brighton 2017   \n",
       "..            ...         ...                                 ...   \n",
       "357          Hull  08/03/1899          Leader's speech, Hull 1899   \n",
       "358        London  16/11/1897        Leader's speech, London 1897   \n",
       "359       Norwich  17/03/1897       Leader's speech, Norwich 1897   \n",
       "360  Huddersfield  27/03/1896  Leader's speech, Huddersfield 1896   \n",
       "361       Cardiff  18/01/1895       Leader's speech, Cardiff 1895   \n",
       "\n",
       "                                                speech  \n",
       "0    Thank you very much for that warm welcome. You...  \n",
       "1    Thank you for that welcome. I want to start by...  \n",
       "2    Conference, we meet at an absolutely crucial m...  \n",
       "3    A little over forty years ago in a small villa...  \n",
       "4    We meet here this week as a united Party, adva...  \n",
       "..                                                 ...  \n",
       "357  Sir James Reckitt, ladies and gentlemen, I am ...  \n",
       "358  My Lord Derby, my lords, ladies and gentlemen,...  \n",
       "359  My Lords and Gentlemen, - I will say ‘My lords...  \n",
       "360  Mr. Walker, ladies and gentlemen.  It is very ...  \n",
       "361  Mr. Bird, ladies and gentlemen, - I am deeply ...  \n",
       "\n",
       "[362 rows x 7 columns]"
      ]
     },
     "execution_count": 8,
     "metadata": {},
     "output_type": "execute_result"
    }
   ],
   "source": [
    "import pandas as pd\n",
    "\n",
    "df = pd.read_csv('metadata.csv')\n",
    "df"
   ]
  },
  {
   "cell_type": "code",
   "execution_count": null,
   "id": "31fd051e",
   "metadata": {},
   "outputs": [],
   "source": []
  }
 ],
 "metadata": {
  "colab": {
   "name": "UpatVBritishpoliticalspeech.org Scraper.ipynb",
   "provenance": []
  },
  "kernelspec": {
   "display_name": "Python 3",
   "language": "python",
   "name": "python3"
  },
  "language_info": {
   "codemirror_mode": {
    "name": "ipython",
    "version": 3
   },
   "file_extension": ".py",
   "mimetype": "text/x-python",
   "name": "python",
   "nbconvert_exporter": "python",
   "pygments_lexer": "ipython3",
   "version": "3.8.8"
  }
 },
 "nbformat": 4,
 "nbformat_minor": 5
}
