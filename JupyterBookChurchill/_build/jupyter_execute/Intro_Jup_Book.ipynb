{
 "cells": [
  {
   "cell_type": "markdown",
   "id": "7f6401be",
   "metadata": {},
   "source": [
    "# Introduction\n",
    "\n",
    "This website is the host of an online textbook, {title of the book}, which will describe the procedure that our team followed in order to scrape political speeches from an online archive and the stylometric analysis that was applied in order to study Churchill’s way of speaking and the change in terms of  speaking according to the parties that exist in the British Parliament.\n",
    "\n",
    "## Why did we choose this topic?\n",
    "\n",
    "First and foremost, every member of the group was interested in politics thus it was a great opportunity for everyone to delve into a new aspect; British politics. Furthermore, the great amount of textual data that we had to work with was a challenge for everyone and allowed us to apply a certain method that can only be applied to texts. One more thing that led to this choice was the massive amount of political speeches in English. Since our team is international in many ways, the best language with which we could work was English. In addition, we thought that working with speeches in languages that could not be understood by everyone could lead to a loss of context.\n",
    "\n",
    "## Why this archive?\n",
    "\n",
    "As with a lot of datasets we found this archive completely randomly but it met our prerequisites. First of all, it offers a clear overview of British political speeches from 1895 until 2018. Moreover, the metadata that it offers are by any means very rich since we have information about the speaker, the political party that they belong, the location of the speech etc. Lastly, it is free and available not only for research but for educational purposes as well.\n",
    "The only constraint with which we had a hard time was copyright issues to Churchill speeches. For this reason we added manually some of the Churchill speeches afterwards in our dataset. Although, this constraint ignited our curiosity and we wanted to apply a stylometric analysis to Churchill speeches, during the first years of World War II and after the War.\n",
    "\n",
    "## Acknowledgments\n",
    "This analysis was inspired by an excellent introduction to stylometric methods and analyses by François Dominic Laramée and the very useful and insightful methods for scraping that were provided by Dr. Federico Pianzola and his assistant Lampros Ntoumas."
   ]
  },
  {
   "cell_type": "code",
   "execution_count": null,
   "id": "9de51d86",
   "metadata": {},
   "outputs": [],
   "source": []
  }
 ],
 "metadata": {
  "kernelspec": {
   "display_name": "Python 3",
   "language": "python",
   "name": "python3"
  },
  "language_info": {
   "codemirror_mode": {
    "name": "ipython",
    "version": 3
   },
   "file_extension": ".py",
   "mimetype": "text/x-python",
   "name": "python",
   "nbconvert_exporter": "python",
   "pygments_lexer": "ipython3",
   "version": "3.8.8"
  }
 },
 "nbformat": 4,
 "nbformat_minor": 5
}